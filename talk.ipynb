{
 "cells": [
  {
   "cell_type": "markdown",
   "metadata": {},
   "source": [
    "# Introduction to the Quantum Bit\n",
    "### Where we'll explore:\n",
    "* **Quantum Superposition**\n",
    "* **Quantum Entanglement**\n",
    "* **Running experiments on a laptop-hosted simulator**\n",
    "* **Running experiments on a real quantum computer**\n",
    "\n",
    "### Brandon Warren\n",
    "### SDE, Zonar Systems\n",
    "github.com/brandonwarren/intro-to-qubit contains this Jupyter notebook and installation tips."
   ]
  },
  {
   "cell_type": "code",
   "execution_count": null,
   "metadata": {},
   "outputs": [],
   "source": [
    "import py_cas_slides as slides"
   ]
  },
  {
   "cell_type": "code",
   "execution_count": null,
   "metadata": {},
   "outputs": [],
   "source": [
    "# real 6-qubit quantum computer, incl interface electronics\n",
    "slides.system()"
   ]
  },
  {
   "cell_type": "code",
   "execution_count": null,
   "metadata": {},
   "outputs": [],
   "source": [
    "# import QISkit, define function to set backend that will execute our circuits\n",
    "\n",
    "HISTO_SIZE = (9,4)  # width, height in inches\n",
    "CIRCUIT_SIZE = 1.0  # scale (e.g. 0.5 is half-size)\n",
    "\n",
    "from qiskit import QuantumCircuit, QuantumRegister, ClassicalRegister, execute\n",
    "from qiskit import BasicAer as Aer\n",
    "from qiskit.tools.visualization import plot_histogram\n",
    "from qiskit import __qiskit_version__\n",
    "\n",
    "print(__qiskit_version__)\n",
    "\n",
    "def set_backend(use_simulator: bool, n_qubits: int, preferred_backend: str=''):\n",
    "    if use_simulator:\n",
    "        backend = Aer.get_backend('qasm_simulator')\n",
    "    else:\n",
    "        from qiskit import IBMQ\n",
    "        provider = IBMQ.load_account()\n",
    "        if preferred_backend:\n",
    "            # use backend specified by caller\n",
    "            backend = provider.get_backend(preferred_backend)\n",
    "            print(f\"Using {backend.name()}\")\n",
    "        else:\n",
    "            # use least-busy backend that has enough qubits\n",
    "            from qiskit.providers.ibmq import least_busy\n",
    "            large_enough_devices = provider.backends(filters=lambda x: x.configuration().n_qubits >= n_qubits and not x.configuration().simulator)\n",
    "            backend = least_busy(large_enough_devices)\n",
    "            print(f\"The best backend is {backend.name()}\")\n",
    "    return backend\n",
    "\n",
    "def add_missing_keys(counts):\n",
    "    # we want all keys present in counts, even if they are zero value\n",
    "    for key in ['00', '01', '10', '11']:\n",
    "        if key not in counts:\n",
    "            counts[key] = 0"
   ]
  },
  {
   "cell_type": "code",
   "execution_count": null,
   "metadata": {},
   "outputs": [],
   "source": [
    "# use simulator for now\n",
    "backend = set_backend(use_simulator=True, n_qubits=2)"
   ]
  },
  {
   "cell_type": "code",
   "execution_count": null,
   "metadata": {},
   "outputs": [],
   "source": [
    "# write code to build this quantum circuit\n",
    "# logic flows left to right\n",
    "# quantum bits begin in ground state (zero)\n",
    "# measurement copies result to classical bit\n",
    "slides.simple_2qubits()  # simplest possible 2-qubit circuit"
   ]
  },
  {
   "cell_type": "code",
   "execution_count": null,
   "metadata": {},
   "outputs": [],
   "source": [
    "# 1. Build simplest possible 2-qubit quantum circuit and draw it\n",
    "\n",
    "q_reg = QuantumRegister(2, 'q')    # the 2 qubits we'll be using\n",
    "c_reg = ClassicalRegister(2, 'c')  # clasical bits to hold results of measurements\n",
    "\n",
    "circuit = QuantumCircuit(q_reg, c_reg)  # begin circuit - just 2 qubits and 2 classical bits\n",
    "\n",
    "# measure while still in ground state\n",
    "circuit.measure(q_reg, c_reg)      # measure qubits, place results in classical bits\n",
    "\n",
    "# circuit is now complete\n",
    "circuit.draw(output='mpl', scale=CIRCUIT_SIZE)"
   ]
  },
  {
   "cell_type": "code",
   "execution_count": null,
   "metadata": {},
   "outputs": [],
   "source": [
    "# run it 1000 times on simulator\n",
    "result = execute(circuit, backend=backend, shots=1000).result()\n",
    "counts = result.get_counts(circuit)\n",
    "print(counts)\n",
    "add_missing_keys(counts)\n",
    "print(counts)\n",
    "plot_histogram(counts, figsize=HISTO_SIZE)"
   ]
  },
  {
   "cell_type": "code",
   "execution_count": null,
   "metadata": {},
   "outputs": [],
   "source": [
    "# 2. Apply X gate (NOT gate) to high qubit (q1)\n",
    "\n",
    "q_reg = QuantumRegister(2, 'q')\n",
    "c_reg = ClassicalRegister(2, 'c')\n",
    "\n",
    "circuit = QuantumCircuit(q_reg, c_reg)\n",
    "\n",
    "###### apply X gate to high qubit ######\n",
    "circuit.x(q_reg[1])\n",
    "\n",
    "circuit.measure(q_reg, c_reg)\n",
    "\n",
    "circuit.draw(output='mpl', scale=CIRCUIT_SIZE)"
   ]
  },
  {
   "cell_type": "code",
   "execution_count": null,
   "metadata": {},
   "outputs": [],
   "source": [
    "# run it 1000 times on simulator\n",
    "result = execute(circuit, backend=backend, shots=1000).result()\n",
    "counts = result.get_counts(circuit)\n",
    "print(counts)\n",
    "add_missing_keys(counts)\n",
    "plot_histogram(counts, figsize=HISTO_SIZE)"
   ]
  },
  {
   "cell_type": "code",
   "execution_count": null,
   "metadata": {},
   "outputs": [],
   "source": [
    "# We've seen the two simplest quantum circuits possible.\n",
    "# Let's take it up a notch and place each qubit into a quantum superposition.\n",
    "# ?\n",
    "slides.super_def()"
   ]
  },
  {
   "cell_type": "code",
   "execution_count": null,
   "metadata": {},
   "outputs": [],
   "source": [
    "# Like you flip a coin - while it is spinning it is H and T.\n",
    "# When you catch it, it is H or T. \n",
    "# BUT: it is as if it was that way all along. \n",
    "# What's the difference between that, and a coin under a\n",
    "# piece of paper that is revealed?\n",
    "slides.feynman_quote()"
   ]
  },
  {
   "cell_type": "code",
   "execution_count": null,
   "metadata": {},
   "outputs": [],
   "source": [
    "slides.double_slit()\n",
    "# (2)"
   ]
  },
  {
   "cell_type": "code",
   "execution_count": null,
   "metadata": {},
   "outputs": [],
   "source": [
    "# Like the photon that is in 2 places at once, the qubit can\n",
    "# be in 2 states at once, and become 0 or 1 when it is measured.\n",
    "\n",
    "# Let's place our 2 qubits in superposion and measure them.\n",
    "# The act of measurement collapses the superposition,\n",
    "# resulting in 1 of the 2 possible values.\n",
    "\n",
    "# H - Hadamard will turn our 0 into a superposition of 0 and 1.\n",
    "# It rotates the state of the qubit.\n",
    "# (coin over table analogy)\n",
    "\n",
    "# 3. Apply H gate to both qubits\n",
    "\n",
    "q_reg = QuantumRegister(2, 'q')\n",
    "c_reg = ClassicalRegister(2, 'c')\n",
    "\n",
    "circuit = QuantumCircuit(q_reg, c_reg)\n",
    "\n",
    "###### apply H gate to both qubits ######\n",
    "circuit.h(q_reg[0])\n",
    "circuit.h(q_reg[1])\n",
    "\n",
    "circuit.measure(q_reg, c_reg)\n",
    "\n",
    "circuit.draw(output='mpl', scale=CIRCUIT_SIZE)"
   ]
  },
  {
   "cell_type": "code",
   "execution_count": null,
   "metadata": {},
   "outputs": [],
   "source": [
    "# histo - 2 bits x 2 possibilities = 4 combinations of equal probability\n",
    "result = execute(circuit, backend=backend, shots=1000).result()\n",
    "counts = result.get_counts(circuit)\n",
    "print(counts)\n",
    "add_missing_keys(counts)\n",
    "plot_histogram(counts, figsize=HISTO_SIZE)\n",
    "# TRUE random numbers! (when run on real device)"
   ]
  },
  {
   "cell_type": "code",
   "execution_count": null,
   "metadata": {},
   "outputs": [],
   "source": [
    "# Special case of superposition, entanglement, revealed by EPR expmt\n",
    "slides.mermin_quote()"
   ]
  },
  {
   "cell_type": "code",
   "execution_count": null,
   "metadata": {},
   "outputs": [],
   "source": [
    "# Before we get to that, i'd like to set the stage by intro\n",
    "# 2 concepts: locality and hidden variables.\n",
    "# The principle of locality says that for one thing to affect\n",
    "# another, they have to be in the same location, or need some\n",
    "# kind of field or signal connecting the two, with\n",
    "# the fastest possible propagation speed being that of light. \n",
    "# This even applies to gravity, which prop at the speed of light.\n",
    "# [We are 8 light-minutes from the Sun, so if the Sun all of a\n",
    "# sudden vanished somehow, we would still orbit for another 8 min.]\n",
    "# \n",
    "# Even though Einstein helped launch the new field of QM, he never\n",
    "# really liked it. In particular, he couln't accept the randomness.\n",
    "slides.einstein_dice()"
   ]
  },
  {
   "cell_type": "code",
   "execution_count": null,
   "metadata": {},
   "outputs": [],
   "source": [
    "slides.bohr_response()"
   ]
  },
  {
   "cell_type": "code",
   "execution_count": null,
   "metadata": {},
   "outputs": [],
   "source": [
    "# (3)\n",
    "slides.epr_nyt()"
   ]
  },
  {
   "cell_type": "code",
   "execution_count": null,
   "metadata": {},
   "outputs": [],
   "source": [
    "# (4)\n",
    "slides.einstein_vs_bohr()"
   ]
  },
  {
   "cell_type": "code",
   "execution_count": null,
   "metadata": {},
   "outputs": [],
   "source": [
    "# [Describe entanglement using coins odd,even]\n",
    "# 4. Entanglement - even-parity\n",
    "\n",
    "q_reg = QuantumRegister(2, 'q')\n",
    "c_reg = ClassicalRegister(2, 'c')\n",
    "\n",
    "circuit = QuantumCircuit(q_reg, c_reg)\n",
    "\n",
    "###### place q[0] in superposition ######\n",
    "circuit.h(q_reg[0])\n",
    "\n",
    "###### CNOT gate - control=q[0] target=q[1] - places into even-parity Bell state\n",
    "# Target is inverted if control is true\n",
    "circuit.cx(q_reg[0], q_reg[1])\n",
    "\n",
    "circuit.measure(q_reg, c_reg)\n",
    "\n",
    "circuit.draw(output='mpl', scale=CIRCUIT_SIZE)"
   ]
  },
  {
   "cell_type": "code",
   "execution_count": null,
   "metadata": {},
   "outputs": [],
   "source": [
    "result = execute(circuit, backend=backend, shots=1000).result()\n",
    "counts = result.get_counts(circuit)\n",
    "print(counts)\n",
    "add_missing_keys(counts)\n",
    "plot_histogram(counts, figsize=HISTO_SIZE)"
   ]
  },
  {
   "cell_type": "code",
   "execution_count": null,
   "metadata": {},
   "outputs": [],
   "source": [
    "# 5. Entanglement - odd-parity\n",
    "\n",
    "q_reg = QuantumRegister(2, 'q')\n",
    "c_reg = ClassicalRegister(2, 'c')\n",
    "\n",
    "circuit = QuantumCircuit(q_reg, c_reg)\n",
    "\n",
    "###### place q[0] in superposition ######\n",
    "circuit.h(q_reg[0])\n",
    "\n",
    "###### CNOT gate - control=q[0] target=q[1] - places into even-parity Bell state\n",
    "# Target is inverted if control is true\n",
    "circuit.cx(q_reg[0], q_reg[1])\n",
    "\n",
    "# a 0/1 superposition is converted to a 1/0 superposition\n",
    "# i.e. rotates state 180 degrees\n",
    "# creates odd-parity entanglement\n",
    "circuit.x(q_reg[0])\n",
    "\n",
    "circuit.measure(q_reg, c_reg)\n",
    "\n",
    "circuit.draw(output='mpl', scale=CIRCUIT_SIZE)"
   ]
  },
  {
   "cell_type": "code",
   "execution_count": null,
   "metadata": {},
   "outputs": [],
   "source": [
    "result = execute(circuit, backend=backend, shots=1000).result()\n",
    "counts = result.get_counts(circuit)\n",
    "print(counts)\n",
    "add_missing_keys(counts)\n",
    "plot_histogram(counts, figsize=HISTO_SIZE)"
   ]
  },
  {
   "cell_type": "code",
   "execution_count": null,
   "metadata": {},
   "outputs": [],
   "source": [
    "# (5)\n",
    "slides.Bell_CHSH_inequality()"
   ]
  },
  {
   "cell_type": "code",
   "execution_count": null,
   "metadata": {},
   "outputs": [],
   "source": [
    "# Let's run the Bell expmt on a real device.\n",
    "# This will not be a simulation!\n",
    "# backend = set_backend(use_simulator=False, n_qubits=2)  # 1st avail is RISKY\n",
    "# backend = set_backend(use_simulator=False, n_qubits=2, preferred_backend='ibmqx2')\n",
    "# Unfortunately, over past few days, the wait times\n",
    "# for the real QCs have gone from couple min to ~hour.\n",
    "# SWITCH TABS"
   ]
  },
  {
   "cell_type": "code",
   "execution_count": null,
   "metadata": {},
   "outputs": [],
   "source": [
    "# [quickly: draw circuits, execute, then go over code and circuits]\n",
    "\n",
    "# 6. Bell experiment\n",
    "\n",
    "import numpy as np\n",
    "\n",
    "# Define the Quantum and Classical Registers\n",
    "q = QuantumRegister(2, 'q')\n",
    "c = ClassicalRegister(2, 'c')\n",
    "\n",
    "# create Bell state\n",
    "bell = QuantumCircuit(q, c)\n",
    "bell.h(q[0])         # place q[0] in superposition\n",
    "bell.cx(q[0], q[1])  # CNOT gate - control=q[0] target=q[1] - places into even-parity Bell state\n",
    "\n",
    "# setup measurement circuits\n",
    "\n",
    "# ZZ not used for Bell inequality, but interesting for real device (i.e. not perfect)\n",
    "meas_zz = QuantumCircuit(q, c)\n",
    "meas_zz.barrier()\n",
    "meas_zz.measure(q, c)\n",
    "\n",
    "# ZW: A=Z=0° B=W=45°\n",
    "meas_zw = QuantumCircuit(q, c)\n",
    "meas_zw.barrier()\n",
    "meas_zw.s(q[1])\n",
    "meas_zw.h(q[1])\n",
    "meas_zw.t(q[1])\n",
    "meas_zw.h(q[1])\n",
    "meas_zw.measure(q, c)\n",
    "\n",
    "# ZV: A=Z=0° B=V=-45°\n",
    "meas_zv = QuantumCircuit(q, c)\n",
    "meas_zv.barrier()\n",
    "meas_zv.s(q[1])\n",
    "meas_zv.h(q[1])\n",
    "meas_zv.tdg(q[1])\n",
    "meas_zv.h(q[1])\n",
    "meas_zv.measure(q, c)\n",
    "\n",
    "# XW: A=X=90° B=W=45°\n",
    "meas_xw = QuantumCircuit(q, c)\n",
    "meas_xw.barrier()\n",
    "meas_xw.h(q[0])\n",
    "meas_xw.s(q[1])\n",
    "meas_xw.h(q[1])\n",
    "meas_xw.t(q[1])\n",
    "meas_xw.h(q[1])\n",
    "meas_xw.measure(q, c)\n",
    "\n",
    "# XV: A=X=90° B=V=-45° - instead of being 45° diff,\n",
    "# they are 90°+45°=135° = 180°-45°,\n",
    "# which is why the correlation is negative and we negate it\n",
    "# before adding the the rest of the correlations.\n",
    "meas_xv = QuantumCircuit(q, c)\n",
    "meas_xv.barrier()\n",
    "meas_xv.h(q[0])\n",
    "meas_xv.s(q[1])\n",
    "meas_xv.h(q[1])\n",
    "meas_xv.tdg(q[1])\n",
    "meas_xv.h(q[1])\n",
    "meas_xv.measure(q, c)\n",
    "\n",
    "# build circuits\n",
    "circuits = []\n",
    "labels = []\n",
    "ab_labels = []\n",
    "circuits.append(bell + meas_zz)\n",
    "labels.append('ZZ')\n",
    "ab_labels.append(\"\")  # not used\n",
    "circuits.append(bell + meas_zw)\n",
    "labels.append('ZW')\n",
    "ab_labels.append(\"<AB>\")\n",
    "circuits.append(bell + meas_zv)\n",
    "labels.append('ZV')\n",
    "ab_labels.append(\"<AB'>\")\n",
    "circuits.append(bell + meas_xw)\n",
    "labels.append('XW')\n",
    "ab_labels.append(\"<A'B>\")\n",
    "circuits.append(bell + meas_xv)\n",
    "labels.append('XV')\n",
    "ab_labels.append(\"<A'B'>\")\n",
    "\n",
    "print(\"Circuit to measure ZZ (A=Z=0° B=Z=0°) - NOT part of Bell expmt\")\n",
    "circuits[0].draw(output='mpl', scale=CIRCUIT_SIZE)"
   ]
  },
  {
   "cell_type": "code",
   "execution_count": null,
   "metadata": {},
   "outputs": [],
   "source": [
    "print(\"Circuit to measure ZW (A=Z=0° B=W=45°)\")\n",
    "print(\"The gates to the right of the vertical bar rotate the measurement axis.\")\n",
    "circuits[1].draw(output='mpl', scale=CIRCUIT_SIZE)"
   ]
  },
  {
   "cell_type": "code",
   "execution_count": null,
   "metadata": {},
   "outputs": [],
   "source": [
    "print(\"Circuit to measure ZV (A=Z=0° B=V=-45°)\")\n",
    "circuits[2].draw(output='mpl', scale=CIRCUIT_SIZE)"
   ]
  },
  {
   "cell_type": "code",
   "execution_count": null,
   "metadata": {},
   "outputs": [],
   "source": [
    "print(\"Circuit to measure XW (A=X=90° B=W=45°)\")\n",
    "circuits[3].draw(output='mpl', scale=CIRCUIT_SIZE)"
   ]
  },
  {
   "cell_type": "code",
   "execution_count": null,
   "metadata": {},
   "outputs": [],
   "source": [
    "print(\"Circuit to meas XV (A=X=90° B=V=-45°) (negative correlation)\")\n",
    "circuits[4].draw(output='mpl', scale=CIRCUIT_SIZE)"
   ]
  },
  {
   "cell_type": "code",
   "execution_count": null,
   "metadata": {},
   "outputs": [],
   "source": [
    "# execute, then review while waiting\n",
    "\n",
    "from datetime import datetime, timezone\n",
    "import time\n",
    "\n",
    "# execute circuits\n",
    "shots = 1024\n",
    "job = execute(circuits, backend=backend, shots=shots)\n",
    "print('after call execute()')\n",
    "\n",
    "if backend.name() != 'qasm_simulator':\n",
    "    try:\n",
    "        info = None\n",
    "        max_tries = 3\n",
    "        while max_tries>0 and not info:\n",
    "            time.sleep(1)  # need to wait a little bit before calling queue_info()\n",
    "            info = job.queue_info()\n",
    "            print(f'queue_info: {info}')\n",
    "            max_tries -= 1\n",
    "        now_utc = datetime.now(timezone.utc)\n",
    "        print(f'\\njob status: {info._status} as of {now_utc.strftime(\"%H:%M:%S\")} UTC')\n",
    "        print(f'position: {info.position}')\n",
    "        print(f'estimated start time: {info.estimated_start_time.strftime(\"%H:%M:%S\")}')\n",
    "        print(f'estimated complete time: {info.estimated_complete_time.strftime(\"%H:%M:%S\")}')\n",
    "        wait_time = info.estimated_complete_time - now_utc\n",
    "        wait_min, wait_sec = divmod(wait_time.seconds, 60)\n",
    "        print(f'estimated wait time is {wait_min} minutes {wait_sec} seconds')\n",
    "    except Exception as err:\n",
    "        print(f'error getting job info: {err}')\n",
    "\n",
    "result = job.result()  # blocks until complete\n",
    "print(f'job complete as of {datetime.now(timezone.utc).strftime(\"%H:%M:%S\")} UTC')\n",
    "\n",
    "# gather data\n",
    "counts = []\n",
    "for i, label in enumerate(labels):\n",
    "    circuit = circuits[i]\n",
    "    data = result.get_counts(circuit)\n",
    "    counts.append(data)\n",
    "\n",
    "# show counts of Bell state measured in Z-axis\n",
    "print('\\n', labels[0], counts[0], '\\n')\n",
    "\n",
    "# show histogram of Bell state measured in Z-axis\n",
    "# not perfect as it was on the simulator\n",
    "add_missing_keys(counts[0])\n",
    "plot_histogram(counts[0], figsize=HISTO_SIZE)"
   ]
  },
  {
   "cell_type": "code",
   "execution_count": null,
   "metadata": {},
   "outputs": [],
   "source": [
    "# tabular output\n",
    "print('     (+)    (+)    (-)    (-)')\n",
    "print('    P(00)  P(11)  P(01)  P(10)   correlation')\n",
    "C = 0.0\n",
    "for i in range(1, len(labels)):\n",
    "    AB = 0.0\n",
    "    print(f'{labels[i]}  ', end ='')\n",
    "    N = 0\n",
    "    for out in ('00', '11', '01', '10'):\n",
    "        P = counts[i][out]/float(shots)\n",
    "        N += counts[i][out]\n",
    "        if out in ('00', '11'):\n",
    "            AB += P\n",
    "        else:\n",
    "            AB -= P\n",
    "        print(f'{P:.3f}  ', end='')\n",
    "    if N != shots:\n",
    "        print(f'ERROR: N={N} shots={shots}')\n",
    "    print(f'{AB:6.3f}  {ab_labels[i]}')\n",
    "    if labels[i] == 'XV':\n",
    "        # the negative correlation - make it positive before summing it\n",
    "        C -= AB\n",
    "    else:\n",
    "        C += AB\n",
    "\n",
    "print(f\"\\nC = <AB> + <AB'> + <A'B> - <A'B'>\")\n",
    "print(f'  = <ZW> + <ZV>  + <XW>  - <XV>')\n",
    "print(f'  = {C:.2f}\\n')\n",
    "\n",
    "if C <= 2.0:\n",
    "    print(\"Einstein: 1   Quantum theory: 0\")\n",
    "else:\n",
    "    print(\"Einstein: 0   Quantum theory: 1\")"
   ]
  },
  {
   "cell_type": "markdown",
   "metadata": {},
   "source": [
    "## Superposition and entanglement main points\n",
    "* Superposition is demonstrated by the double-slit experiment, which suggests that a photon can be in two positions at once, because the interference pattern only forms if two photons interfere with each other, and it forms even if we send one photon at a time.\n",
    "\n",
    "* Hidden variable theories seek to provide determinism to quantum physics.\n",
    "\n",
    "* The principle of locality states that an influence of one particle on another cannot propagate faster than the speed of light.\n",
    "\n",
    "* Entanglement cannot be explained by local hidden variable theories.\n",
    "\n",
    "## Summary\n",
    "* Two of the strangest concepts in quantum physics, superposition and entanglement, are used in quantum computing, and are waiting to be explored by you.\n",
    "\n",
    "* You can run simple experiments on your laptop, and when you're ready, run them on a real quantum computer, over the cloud, for free.\n",
    "\n",
    "* IBM's qiskit.org contains software, tutorials, and an active Slack community.\n",
    "\n",
    "* My Github repo includes this presentation, tips on installing IBM's Qiskit on your laptop, and links for varying levels of explanations of superpositions and entanglements:\n",
    "github.com/brandonwarren/intro-to-qubit\n"
   ]
  },
  {
   "cell_type": "code",
   "execution_count": null,
   "metadata": {},
   "outputs": [],
   "source": []
  }
 ],
 "metadata": {
  "kernelspec": {
   "display_name": "Python 3",
   "language": "python",
   "name": "python3"
  },
  "language_info": {
   "codemirror_mode": {
    "name": "ipython",
    "version": 3
   },
   "file_extension": ".py",
   "mimetype": "text/x-python",
   "name": "python",
   "nbconvert_exporter": "python",
   "pygments_lexer": "ipython3",
   "version": "3.7.5"
  }
 },
 "nbformat": 4,
 "nbformat_minor": 2
}
